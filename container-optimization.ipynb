{
 "cells": [
  {
   "cell_type": "code",
   "id": "initial_id",
   "metadata": {
    "collapsed": true,
    "ExecuteTime": {
     "end_time": "2024-06-15T17:43:29.964407Z",
     "start_time": "2024-06-15T17:43:29.945616Z"
    }
   },
   "source": "# !pip install rectpack",
   "outputs": [],
   "execution_count": 2
  },
  {
   "metadata": {
    "ExecuteTime": {
     "end_time": "2024-06-15T17:43:29.980565Z",
     "start_time": "2024-06-15T17:43:29.964909Z"
    }
   },
   "cell_type": "code",
   "source": [
    "from rectpack import newPacker\n",
    "\n",
    "rectangles = [(100, 30), (40, 60), (30, 30),(70, 70), (100, 50), (30, 30)]\n",
    "bins = [(300, 450), (80, 40), (200, 150)]\n",
    "\n",
    "packer = newPacker()\n",
    "\n",
    "# Add the rectangles to packing queue\n",
    "for r in rectangles:\n",
    "\tpacker.add_rect(*r)\n",
    "\n",
    "# Add the bins where the rectangles will be placed\n",
    "for b in bins:\n",
    "\tpacker.add_bin(*b)\n",
    "\n",
    "# Start packing\n",
    "packer.pack()"
   ],
   "id": "37f839fcd11418d7",
   "outputs": [],
   "execution_count": 3
  },
  {
   "metadata": {
    "ExecuteTime": {
     "end_time": "2024-06-15T17:43:29.997594Z",
     "start_time": "2024-06-15T17:43:29.981700Z"
    }
   },
   "cell_type": "code",
   "source": [
    "from rectpack import newPacker\n",
    "\n",
    "rectangles = [(100, 30), (40, 60), (30, 30), (70, 70), (100, 50), (30, 30)]\n",
    "bins = [(300, 450), (80, 40), (200, 150)]\n",
    "\n",
    "packer = newPacker()\n",
    "\n",
    "# Add the rectangles to packing queue\n",
    "for r in rectangles:\n",
    "    packer.add_rect(*r)\n",
    "\n",
    "# Add the bins where the rectangles will be placed\n",
    "for b in bins:\n",
    "    packer.add_bin(*b)\n",
    "\n",
    "# Start packing\n",
    "packer.pack()\n",
    "# Obtain number of bins used for packing\n",
    "nbins = len(packer)\n",
    "\n",
    "# Index first bin\n",
    "abin = packer[0]\n",
    "\n",
    "# Bin dimmensions (bins can be reordered during packing)\n",
    "width, height = abin.width, abin.height\n",
    "\n",
    "# Number of rectangles packed into first bin\n",
    "nrect = len(packer[0])\n",
    "\n",
    "# Second bin first rectangle\n",
    "rect = packer[0][1]\n",
    "\n",
    "# rect is a Rectangle object\n",
    "x = rect.x  # rectangle bottom-left x coordinate\n",
    "y = rect.y  # rectangle bottom-left y coordinate\n",
    "w = rect.width\n",
    "h = rect.height"
   ],
   "id": "586a2d133bb3c67a",
   "outputs": [],
   "execution_count": 4
  },
  {
   "metadata": {
    "ExecuteTime": {
     "end_time": "2024-06-15T17:43:30.013831Z",
     "start_time": "2024-06-15T17:43:29.998083Z"
    }
   },
   "cell_type": "code",
   "source": [
    "for abin in packer:\n",
    "  print(abin.bid) # Bin id if it has one\n",
    "  for rect in abin:\n",
    "    print(rect)"
   ],
   "id": "43e4ce9ed307f1b2",
   "outputs": [
    {
     "name": "stdout",
     "output_type": "stream",
     "text": [
      "None\n",
      "R(0, 0, 100, 50)\n",
      "R(100, 0, 70, 70)\n",
      "R(0, 50, 100, 30)\n",
      "R(170, 0, 60, 40)\n",
      "R(230, 0, 30, 30)\n",
      "R(260, 0, 30, 30)\n"
     ]
    }
   ],
   "execution_count": 5
  }
 ],
 "metadata": {
  "kernelspec": {
   "display_name": "Python 3",
   "language": "python",
   "name": "python3"
  },
  "language_info": {
   "codemirror_mode": {
    "name": "ipython",
    "version": 2
   },
   "file_extension": ".py",
   "mimetype": "text/x-python",
   "name": "python",
   "nbconvert_exporter": "python",
   "pygments_lexer": "ipython2",
   "version": "2.7.6"
  }
 },
 "nbformat": 4,
 "nbformat_minor": 5
}
