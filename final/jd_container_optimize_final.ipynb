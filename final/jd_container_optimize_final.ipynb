{
 "cells": [
  {
   "cell_type": "code",
   "id": "initial_id",
   "metadata": {
    "collapsed": true,
    "ExecuteTime": {
     "end_time": "2024-07-26T04:52:08.544957Z",
     "start_time": "2024-07-26T04:51:17.737233Z"
    }
   },
   "source": [
    "import pandas as pd\n",
    "from py3dbp import Packer, Bin, Item\n",
    "import os\n",
    "\n",
    "#**********************************************#\n",
    "# Load the Excel file\n",
    "file_path = 'Optimization Problem.xlsx'\n",
    "packages_df = pd.read_excel(file_path, sheet_name='Packages')\n",
    "cartons_df = pd.read_excel(file_path, sheet_name='Cartons')\n",
    "\n",
    "    \n",
    "#**********************************************#\n",
    "if not os.path.isdir(\"outcome\"):         \n",
    "    os.mkdir(\"outcome\") \n",
    "with open(\"outcome/optimize-solution.csv\", \"w\") as fw:\n",
    "    fw.write(\"PackageID,Length,Width,Depth,CartonName,ItemsFit,%Utilization,CartonName,ItemsFit,%Utilization,CartonName,ItemsFit,%Utilization,CartonName,ItemsFit,%Utilization,CartonName,ItemsFit,%Utilization,CartonName,ItemsFit,%Utilization,BestFit\\n\")   \n",
    "\n",
    "for index,package in packages_df.iterrows():\n",
    "    package_id = package['Package_ID']\n",
    "    length = package['PKG_LNGTH_IN']\n",
    "    width = package['PKG_WIDTH_IN']\n",
    "    height = package['PKG_DEPTH_IN']\n",
    "    item_data = {\n",
    "        \"name\": package_id, \n",
    "        \"length\": length, \n",
    "        \"width\": width, \n",
    "        \"height\": height, \n",
    "        \"weight\": 0\n",
    "    }\n",
    "    with open('outcome/optimize-solution.csv', 'a') as fw:\n",
    "        fw.write(\"{},{},{},{},\".format(package_id, round(length,2), round(width,2),round(height,2)))\n",
    "# Initialize variables to track the best fit\n",
    "    best_fit_container = None\n",
    "    best_fit_volume_utilized_percentage = 0\n",
    "    \n",
    "    # Calculating the optimization packaging instructions\n",
    "    for index, carton in cartons_df.iterrows():\n",
    "        # Define your storage unit as a 'Bin'\n",
    "        storage_unit = Bin(carton['Description'], carton['ID Length (in)'], carton['ID Width (in)'], carton['ID Height (in)'], 1)\n",
    "        # Initialize the Packer\n",
    "        packer = Packer()\n",
    "        # Add the storage unit to the packer\n",
    "        packer.add_bin(storage_unit)\n",
    "        # Add items in batches\n",
    "        batch_size = 100\n",
    "        num_batches = 10  # 1000 items in total\n",
    "        for i in range(num_batches):\n",
    "            batch_items = [Item(item_data[\"name\"], item_data[\"length\"], item_data[\"width\"], item_data[\"height\"], item_data[\"weight\"]) for _ in range(batch_size)]\n",
    "            for item in batch_items:\n",
    "                packer.add_item(item)\n",
    "        # Run the packing algorithm\n",
    "        packer.pack()\n",
    "        # Calculate the volume of the storage unit\n",
    "        storage_volume = float(storage_unit.width * storage_unit.height * storage_unit.depth)\n",
    "        # Calculate the volume of a single item\n",
    "        item_volume = float(item_data[\"length\"] * item_data[\"width\"] * item_data[\"height\"])\n",
    "        # Calculate the total volume utilized and the number of items fit\n",
    "        total_items_fit = sum(len(b.items) for b in packer.bins)\n",
    "        total_volume_utilized = float(total_items_fit * item_volume)\n",
    "        # Calculate the percentage of volume utilized\n",
    "        volume_utilized_percentage = (total_volume_utilized / storage_volume) * 100\n",
    "        # Check if this container is the best fit\n",
    "        if volume_utilized_percentage > best_fit_volume_utilized_percentage:\n",
    "            best_fit_container = carton\n",
    "            best_fit_volume_utilized_percentage = volume_utilized_percentage\n",
    "        des = carton['Description']+\"-\"+str(carton['ID Total Area (in)'])\n",
    "        with open('outcome/optimize-solution.csv', 'a') as fw:\n",
    "            fw.write(\"{},{},{},\".format(des,total_items_fit,round(volume_utilized_percentage,2)))\n",
    "    with open('outcome/optimize-solution.csv', 'a') as fw:    \n",
    "        fw.write(\"{}\\n\".format(best_fit_container[\"Description\"]))\n",
    " \n",
    " "
   ],
   "outputs": [
    {
     "ename": "KeyboardInterrupt",
     "evalue": "",
     "output_type": "error",
     "traceback": [
      "\u001B[1;31m---------------------------------------------------------------------------\u001B[0m",
      "\u001B[1;31mKeyboardInterrupt\u001B[0m                         Traceback (most recent call last)",
      "Cell \u001B[1;32mIn[19], line 52\u001B[0m\n\u001B[0;32m     50\u001B[0m         packer\u001B[38;5;241m.\u001B[39madd_item(item)\n\u001B[0;32m     51\u001B[0m \u001B[38;5;66;03m# Run the packing algorithm\u001B[39;00m\n\u001B[1;32m---> 52\u001B[0m \u001B[43mpacker\u001B[49m\u001B[38;5;241;43m.\u001B[39;49m\u001B[43mpack\u001B[49m\u001B[43m(\u001B[49m\u001B[43m)\u001B[49m\n\u001B[0;32m     53\u001B[0m \u001B[38;5;66;03m# Calculate the volume of the storage unit\u001B[39;00m\n\u001B[0;32m     54\u001B[0m storage_volume \u001B[38;5;241m=\u001B[39m \u001B[38;5;28mfloat\u001B[39m(storage_unit\u001B[38;5;241m.\u001B[39mwidth \u001B[38;5;241m*\u001B[39m storage_unit\u001B[38;5;241m.\u001B[39mheight \u001B[38;5;241m*\u001B[39m storage_unit\u001B[38;5;241m.\u001B[39mdepth)\n",
      "File \u001B[1;32m~\\Miniconda3\\lib\\site-packages\\py3dbp\\main.py:212\u001B[0m, in \u001B[0;36mPacker.pack\u001B[1;34m(self, bigger_first, distribute_items, number_of_decimals)\u001B[0m\n\u001B[0;32m    210\u001B[0m \u001B[38;5;28;01mfor\u001B[39;00m \u001B[38;5;28mbin\u001B[39m \u001B[38;5;129;01min\u001B[39;00m \u001B[38;5;28mself\u001B[39m\u001B[38;5;241m.\u001B[39mbins:\n\u001B[0;32m    211\u001B[0m     \u001B[38;5;28;01mfor\u001B[39;00m item \u001B[38;5;129;01min\u001B[39;00m \u001B[38;5;28mself\u001B[39m\u001B[38;5;241m.\u001B[39mitems:\n\u001B[1;32m--> 212\u001B[0m         \u001B[38;5;28;43mself\u001B[39;49m\u001B[38;5;241;43m.\u001B[39;49m\u001B[43mpack_to_bin\u001B[49m\u001B[43m(\u001B[49m\u001B[38;5;28;43mbin\u001B[39;49m\u001B[43m,\u001B[49m\u001B[43m \u001B[49m\u001B[43mitem\u001B[49m\u001B[43m)\u001B[49m\n\u001B[0;32m    214\u001B[0m     \u001B[38;5;28;01mif\u001B[39;00m distribute_items:\n\u001B[0;32m    215\u001B[0m         \u001B[38;5;28;01mfor\u001B[39;00m item \u001B[38;5;129;01min\u001B[39;00m \u001B[38;5;28mbin\u001B[39m\u001B[38;5;241m.\u001B[39mitems:\n",
      "File \u001B[1;32m~\\Miniconda3\\lib\\site-packages\\py3dbp\\main.py:184\u001B[0m, in \u001B[0;36mPacker.pack_to_bin\u001B[1;34m(self, bin, item)\u001B[0m\n\u001B[0;32m    177\u001B[0m \u001B[38;5;28;01melif\u001B[39;00m axis \u001B[38;5;241m==\u001B[39m Axis\u001B[38;5;241m.\u001B[39mDEPTH:\n\u001B[0;32m    178\u001B[0m     pivot \u001B[38;5;241m=\u001B[39m [\n\u001B[0;32m    179\u001B[0m         ib\u001B[38;5;241m.\u001B[39mposition[\u001B[38;5;241m0\u001B[39m],\n\u001B[0;32m    180\u001B[0m         ib\u001B[38;5;241m.\u001B[39mposition[\u001B[38;5;241m1\u001B[39m],\n\u001B[0;32m    181\u001B[0m         ib\u001B[38;5;241m.\u001B[39mposition[\u001B[38;5;241m2\u001B[39m] \u001B[38;5;241m+\u001B[39m d\n\u001B[0;32m    182\u001B[0m     ]\n\u001B[1;32m--> 184\u001B[0m \u001B[38;5;28;01mif\u001B[39;00m \u001B[38;5;28;43mbin\u001B[39;49m\u001B[38;5;241;43m.\u001B[39;49m\u001B[43mput_item\u001B[49m\u001B[43m(\u001B[49m\u001B[43mitem\u001B[49m\u001B[43m,\u001B[49m\u001B[43m \u001B[49m\u001B[43mpivot\u001B[49m\u001B[43m)\u001B[49m:\n\u001B[0;32m    185\u001B[0m     fitted \u001B[38;5;241m=\u001B[39m \u001B[38;5;28;01mTrue\u001B[39;00m\n\u001B[0;32m    186\u001B[0m     \u001B[38;5;28;01mbreak\u001B[39;00m\n",
      "File \u001B[1;32m~\\Miniconda3\\lib\\site-packages\\py3dbp\\main.py:111\u001B[0m, in \u001B[0;36mBin.put_item\u001B[1;34m(self, item, pivot)\u001B[0m\n\u001B[0;32m    108\u001B[0m fit \u001B[38;5;241m=\u001B[39m \u001B[38;5;28;01mTrue\u001B[39;00m\n\u001B[0;32m    110\u001B[0m \u001B[38;5;28;01mfor\u001B[39;00m current_item_in_bin \u001B[38;5;129;01min\u001B[39;00m \u001B[38;5;28mself\u001B[39m\u001B[38;5;241m.\u001B[39mitems:\n\u001B[1;32m--> 111\u001B[0m     \u001B[38;5;28;01mif\u001B[39;00m \u001B[43mintersect\u001B[49m\u001B[43m(\u001B[49m\u001B[43mcurrent_item_in_bin\u001B[49m\u001B[43m,\u001B[49m\u001B[43m \u001B[49m\u001B[43mitem\u001B[49m\u001B[43m)\u001B[49m:\n\u001B[0;32m    112\u001B[0m         fit \u001B[38;5;241m=\u001B[39m \u001B[38;5;28;01mFalse\u001B[39;00m\n\u001B[0;32m    113\u001B[0m         \u001B[38;5;28;01mbreak\u001B[39;00m\n",
      "\u001B[1;31mKeyboardInterrupt\u001B[0m: "
     ]
    }
   ],
   "execution_count": 19
  }
 ],
 "metadata": {
  "kernelspec": {
   "display_name": "Python 3",
   "language": "python",
   "name": "python3"
  },
  "language_info": {
   "codemirror_mode": {
    "name": "ipython",
    "version": 2
   },
   "file_extension": ".py",
   "mimetype": "text/x-python",
   "name": "python",
   "nbconvert_exporter": "python",
   "pygments_lexer": "ipython2",
   "version": "2.7.6"
  }
 },
 "nbformat": 4,
 "nbformat_minor": 5
}
